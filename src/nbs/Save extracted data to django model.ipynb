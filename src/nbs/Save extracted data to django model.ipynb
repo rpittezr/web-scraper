{
 "cells": [
  {
   "cell_type": "code",
   "execution_count": null,
   "id": "240de93c-08f6-4b0c-bcf6-b21270989f37",
   "metadata": {},
   "outputs": [],
   "source": [
    "import setup\n",
    "setup.init_django(project_name='config')"
   ]
  },
  {
   "cell_type": "code",
   "execution_count": null,
   "id": "8e9667ed-46a4-4833-a30e-801019c44f6e",
   "metadata": {
    "scrolled": true
   },
   "outputs": [],
   "source": [
    "import helpers"
   ]
  },
  {
   "cell_type": "code",
   "execution_count": null,
   "id": "784473ed-9b9b-40ab-9438-07aee3540269",
   "metadata": {},
   "outputs": [],
   "source": [
    "from bs4 import BeautifulSoup"
   ]
  },
  {
   "cell_type": "code",
   "execution_count": null,
   "id": "7b1f5883-e36d-4bed-9c5f-b58863c428a3",
   "metadata": {},
   "outputs": [],
   "source": [
    "url = \"https://www.amazon.com.br/Barra-Prote%C3%ADna-BOLD-Crunch-Cookies/dp/B0D5JJ2KDP/ref=pd_rhf_dp_s_pd_crcd_d_sccl_2_6/145-2538442-3375966?pd_rd_w=emFuO&content-id=amzn1.sym.1b2190ca-db28-46be-85f8-55611bc8c041&pf_rd_p=1b2190ca-db28-46be-85f8-55611bc8c041&pf_rd_r=ME15A3221VFE4TDDADFT&pd_rd_wg=JJ6ft&pd_rd_r=c9fd334d-45f2-4371-8198-0f2e370dd11b&pd_rd_i=B0D5JJ2KDP&psc=1\""
   ]
  },
  {
   "cell_type": "code",
   "execution_count": null,
   "id": "3b6e2bf1-e4e2-4862-bcb4-a7c5aca53c6e",
   "metadata": {},
   "outputs": [],
   "source": [
    "url"
   ]
  },
  {
   "cell_type": "code",
   "execution_count": null,
   "id": "3ac4c961-e4f7-453a-9f0b-731f88a24331",
   "metadata": {
    "scrolled": true
   },
   "outputs": [],
   "source": [
    "html = helpers.scrape(url=url, solve_captcha=False)\n",
    "data = helpers.extract_amazon_product_data(html)"
   ]
  },
  {
   "cell_type": "code",
   "execution_count": null,
   "id": "bd54b0cb-1b6d-48a6-8afc-d7d2b8d2ef52",
   "metadata": {},
   "outputs": [],
   "source": [
    "# data"
   ]
  },
  {
   "cell_type": "code",
   "execution_count": null,
   "id": "b8b51562-066c-4bee-8028-e7332b5cd986",
   "metadata": {},
   "outputs": [],
   "source": [
    "def find_product_table_data(html):\n",
    "    soup = BeautifulSoup(html)\n",
    "    product_data = soup.find('div', id='prodDetails')\n",
    "    if product_data is None:\n",
    "        return []\n",
    "    table = product_data.find('table')\n",
    "    columns = [f\"{x.text}\".strip() for x in table.find_all('th')]\n",
    "    table_data=[]\n",
    "    for i, row in enumerate(table.find_all('tr')):  # [1:] to skip the header row\n",
    "        # Get all cells in the row\n",
    "        cells = row.find_all('td')\n",
    "        # Create a dictionary for the current row, mapping header to cell data\n",
    "        row_data = {columns[i]: f'{cell.text}'.strip() for cell in cells}\n",
    "        # Add the dictionary to your list\n",
    "        table_data.append(row_data)\n",
    "    return table_data\n",
    "\n",
    "def find_product_rating(html):\n",
    "    soup = BeautifulSoup(html)\n",
    "    average_rating = soup.find(id='averageCustomerReviews').find_all(\"span\", class_='a-size-base')[0].text.strip()\n",
    "    average_rating = \"\".join([x for x in f\"{average_rating}\".strip() if x.isdigit() or x == ','])\n",
    "    average_rating = float(average_rating.replace(',', '.'))\n",
    "    rating_data = soup.find(id='acrCustomerReviewText').text\n",
    "    rating_count = int(''.join([x for x in rating_data if x.isdigit()]))\n",
    "    rating_count\n",
    "    return {\n",
    "        'average': average_rating,\n",
    "        'count': rating_count,\n",
    "    }\n",
    "\n",
    "def extract_amazon_product_data(html):\n",
    "    soup = BeautifulSoup(html)\n",
    "    productTitle = soup.find('span', id='productTitle')\n",
    "    productTitleText = f\"{productTitle.text}\".strip()\n",
    "    productPrice = soup.find_all('span', class_='a-price-whole')[0]\n",
    "    productPrice = f\"{productPrice.text}\".strip()\n",
    "    productPriceText = \"\".join([x for x in productPrice if x.isdigit() or x == ','])\n",
    "    productPriceNum = float(productPriceText)\n",
    "    try:\n",
    "        productDescription = soup.find('div', id='productDescription').text\n",
    "    except:\n",
    "        productDescription = ''\n",
    "    featureBullets = soup.find('div', id='feature-bullets').text\n",
    "    return {\n",
    "        'title': productTitleText,\n",
    "        'price_raw': productPrice,\n",
    "        'price_text': productPriceText,\n",
    "        'price': productPriceNum,\n",
    "        'metadata': find_product_table_data(html),\n",
    "        'description': productDescription,\n",
    "        'feature_bullets': featureBullets,\n",
    "        'rating': find_product_rating(html)\n",
    "    }"
   ]
  },
  {
   "cell_type": "code",
   "execution_count": null,
   "id": "b891f087-7a3b-4a90-a3d0-37ee1420345a",
   "metadata": {},
   "outputs": [],
   "source": [
    "html = helpers.scrape(url=url, solve_captcha=False)"
   ]
  },
  {
   "cell_type": "code",
   "execution_count": null,
   "id": "8be8e530-07da-4052-94a8-7032b81c9a1d",
   "metadata": {},
   "outputs": [],
   "source": [
    "data = extract_amazon_product_data(html)\n",
    "data"
   ]
  },
  {
   "cell_type": "code",
   "execution_count": null,
   "id": "d18941ea-8e51-433f-b7f8-a3c6f037e18a",
   "metadata": {},
   "outputs": [],
   "source": []
  }
 ],
 "metadata": {
  "kernelspec": {
   "display_name": "Python 3 (ipykernel)",
   "language": "python",
   "name": "python3"
  },
  "language_info": {
   "codemirror_mode": {
    "name": "ipython",
    "version": 3
   },
   "file_extension": ".py",
   "mimetype": "text/x-python",
   "name": "python",
   "nbconvert_exporter": "python",
   "pygments_lexer": "ipython3",
   "version": "3.12.3"
  }
 },
 "nbformat": 4,
 "nbformat_minor": 5
}
