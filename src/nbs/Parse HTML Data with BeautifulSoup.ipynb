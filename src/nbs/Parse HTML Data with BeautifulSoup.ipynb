{
 "cells": [
  {
   "cell_type": "code",
   "execution_count": 155,
   "id": "240de93c-08f6-4b0c-bcf6-b21270989f37",
   "metadata": {},
   "outputs": [],
   "source": [
    "import setup\n",
    "setup.init_django(project_name='config')"
   ]
  },
  {
   "cell_type": "code",
   "execution_count": 156,
   "id": "7b1f5883-e36d-4bed-9c5f-b58863c428a3",
   "metadata": {},
   "outputs": [],
   "source": [
    "url = \"https://www.amazon.com.br/Barra-Prote%C3%ADna-BOLD-Crunch-Cookies/dp/B0D5JJ2KDP/ref=pd_rhf_dp_s_pd_crcd_d_sccl_2_6/145-2538442-3375966?pd_rd_w=emFuO&content-id=amzn1.sym.1b2190ca-db28-46be-85f8-55611bc8c041&pf_rd_p=1b2190ca-db28-46be-85f8-55611bc8c041&pf_rd_r=ME15A3221VFE4TDDADFT&pd_rd_wg=JJ6ft&pd_rd_r=c9fd334d-45f2-4371-8198-0f2e370dd11b&pd_rd_i=B0D5JJ2KDP&psc=1\""
   ]
  },
  {
   "cell_type": "code",
   "execution_count": 157,
   "id": "3b6e2bf1-e4e2-4862-bcb4-a7c5aca53c6e",
   "metadata": {},
   "outputs": [
    {
     "name": "stdout",
     "output_type": "stream",
     "text": [
      "/home/pittezr-nb/Documents/work/web-scraper/src\n"
     ]
    }
   ],
   "source": [
    "!pwd"
   ]
  },
  {
   "cell_type": "code",
   "execution_count": 158,
   "id": "8e9667ed-46a4-4833-a30e-801019c44f6e",
   "metadata": {
    "scrolled": true
   },
   "outputs": [],
   "source": [
    "import helpers"
   ]
  },
  {
   "cell_type": "code",
   "execution_count": 159,
   "id": "3ac4c961-e4f7-453a-9f0b-731f88a24331",
   "metadata": {},
   "outputs": [
    {
     "name": "stdout",
     "output_type": "stream",
     "text": [
      "Connecting to Scraping Browser...\n",
      "Connected! Navigating to https://www.amazon.com.br/Barra-Prote%C3%ADna-BOLD-Crunch-Cookies/dp/B0D5JJ2KDP/ref=pd_rhf_dp_s_pd_crcd_d_sccl_2_6/145-2538442-3375966?pd_rd_w=emFuO&content-id=amzn1.sym.1b2190ca-db28-46be-85f8-55611bc8c041&pf_rd_p=1b2190ca-db28-46be-85f8-55611bc8c041&pf_rd_r=ME15A3221VFE4TDDADFT&pd_rd_wg=JJ6ft&pd_rd_r=c9fd334d-45f2-4371-8198-0f2e370dd11b&pd_rd_i=B0D5JJ2KDP&psc=1\n",
      "Navigated! Scraping page content...\n"
     ]
    }
   ],
   "source": [
    "html = helpers.scrape(url=url)"
   ]
  },
  {
   "cell_type": "code",
   "execution_count": 160,
   "id": "784473ed-9b9b-40ab-9438-07aee3540269",
   "metadata": {},
   "outputs": [],
   "source": [
    "from bs4 import BeautifulSoup"
   ]
  },
  {
   "cell_type": "code",
   "execution_count": 161,
   "id": "087613ab-9094-41d7-9ddf-53c6ac15822b",
   "metadata": {},
   "outputs": [],
   "source": [
    "soup = BeautifulSoup(html, 'html.parser')"
   ]
  },
  {
   "cell_type": "markdown",
   "id": "655d7a1a-d29e-4465-82db-3f8bf56131ec",
   "metadata": {},
   "source": [
    "```html\n",
    "<div id=\"titleSection\" class=\"a-section a-spacing-none\">\n",
    "    <h1 id=\"title\" class=\"a-size-large a-spacing-none\">\n",
    "        <span id=\"productTitle\" class=\"a-size-large product-title-word-break\">\n",
    "            Barra de Proteína BOLD Crunch Cookies &amp; Cream (15g de Proteína) - Caixa com 12 unidades\n",
    "        </span>\n",
    "    </h1>\n",
    "<div id=\"expandTitleToggle\" class=\"a-section a-spacing-none expand aok-hidden\"></div>  </div>\n",
    "```"
   ]
  },
  {
   "cell_type": "code",
   "execution_count": 162,
   "id": "186b4b1b-47e0-4d08-8ca9-699af11b4a10",
   "metadata": {},
   "outputs": [
    {
     "data": {
      "text/plain": [
       "'Barra de Proteína BOLD Crunch Cookies & Cream (15g de Proteína) - Caixa com 12 unidades'"
      ]
     },
     "execution_count": 162,
     "metadata": {},
     "output_type": "execute_result"
    }
   ],
   "source": [
    "productTitle = soup.find('span', id='productTitle')\n",
    "productTitleText = f\"{productTitle.text}\".strip()\n",
    "productTitleText"
   ]
  },
  {
   "cell_type": "markdown",
   "id": "fe0430b5-dd06-4b9c-ba79-2e6d2ad794c3",
   "metadata": {},
   "source": [
    "```html\n",
    "<span class=\"a-price-whole\">152<span class=\"a-price-decimal\">,</span></span>\n",
    "```"
   ]
  },
  {
   "cell_type": "code",
   "execution_count": 163,
   "id": "cfda8efd-845f-41b7-b237-a15773db2539",
   "metadata": {},
   "outputs": [
    {
     "data": {
      "text/plain": [
       "143.0"
      ]
     },
     "execution_count": 163,
     "metadata": {},
     "output_type": "execute_result"
    }
   ],
   "source": [
    "productPrice = soup.find_all('span', class_='a-price-whole')[0]\n",
    "productPriceText = \"\".join([x for x in f\"{productPrice.text}\".strip() if x.isdigit()] or x == ',')\n",
    "productPriceNum = float(productPriceText)\n",
    "productPriceNum"
   ]
  },
  {
   "cell_type": "code",
   "execution_count": 164,
   "id": "780c3054-fdfe-441a-949f-931c995e4e03",
   "metadata": {},
   "outputs": [
    {
     "data": {
      "text/plain": [
       "['Informações sobre alergia',\n",
       " 'Unidades',\n",
       " 'Marca',\n",
       " 'Número de unidades',\n",
       " 'Fabricante',\n",
       " 'Dimensões do produto',\n",
       " 'ASIN',\n",
       " 'Funciona a bateria ou pilha?',\n",
       " 'EAN']"
      ]
     },
     "execution_count": 164,
     "metadata": {},
     "output_type": "execute_result"
    }
   ],
   "source": [
    "product_data = soup.find('div', id='prodDetails')\n",
    "table = product_data.find('table')\n",
    "columns = [f\"{x.text}\".strip() for x in table.find_all('th')]\n",
    "columns"
   ]
  },
  {
   "cell_type": "code",
   "execution_count": 165,
   "id": "b985b5a9-9168-42c6-8e53-f2350fc3a24b",
   "metadata": {},
   "outputs": [],
   "source": [
    "table_data=[]\n",
    "for i, row in enumerate(table.find_all('tr')):\n",
    "    # get all cells in the row\n",
    "    cells = row.find_all('td')\n",
    "    # create a dict for the current row, mapping header to cell data\n",
    "    row_data = {columns[i]: f\"{cell.text}\".strip() for cell in cells}\n",
    "    # add the dict to your list\n",
    "    table_data.append(row_data)"
   ]
  },
  {
   "cell_type": "code",
   "execution_count": 166,
   "id": "9dd5855d-896c-42d1-9a00-7e2c60f911b6",
   "metadata": {},
   "outputs": [
    {
     "data": {
      "text/plain": [
       "[{'Informações sobre alergia': '\\u200eAmendoim, Nozes, Castanha de caju, Avelãs, Castanha do Brasil'},\n",
       " {'Unidades': '\\u200e1.00 Unidade'},\n",
       " {'Marca': '\\u200eBOLD Snacks'},\n",
       " {'Número de unidades': '\\u200e12'},\n",
       " {'Fabricante': '\\u200eBOLD Snacks'},\n",
       " {'Dimensões do produto': '\\u200e16,5 x 13,5 x 8 cm; 650 g'},\n",
       " {'ASIN': '\\u200eB0D5JJ2KDP'},\n",
       " {'Funciona a bateria ou pilha?': '\\u200eNão'},\n",
       " {'EAN': '\\u200e7898755180541'}]"
      ]
     },
     "execution_count": 166,
     "metadata": {},
     "output_type": "execute_result"
    }
   ],
   "source": [
    "table_data"
   ]
  },
  {
   "cell_type": "code",
   "execution_count": 167,
   "id": "5a8e3977-4f36-4243-a216-ca0ca63d674f",
   "metadata": {},
   "outputs": [
    {
     "data": {
      "text/plain": [
       "['B0D5JJ2KDP']"
      ]
     },
     "execution_count": 167,
     "metadata": {},
     "output_type": "execute_result"
    }
   ],
   "source": [
    "elements_with_attribute = soup.find_all(lambda tag: tag.has_attr('data-csa-c-asin'))\n",
    "asins = [x.attrs.get('data-csa-c-asin') for x in elements_with_attribute if x]\n",
    "asins = list(set([x for x in asins if x != \"\"]))\n",
    "asins"
   ]
  },
  {
   "cell_type": "code",
   "execution_count": 168,
   "id": "6cee2f69-4ade-4811-a77c-09ca6a6c22fb",
   "metadata": {},
   "outputs": [
    {
     "data": {
      "text/plain": [
       "' \\n SUPLEMENTO ALIMENTAR DE PROTEÍNA EM BARRA  '"
      ]
     },
     "execution_count": 168,
     "metadata": {},
     "output_type": "execute_result"
    }
   ],
   "source": [
    "if soup.find('div', id='productDescription'):\n",
    "    productDescription = soup.find('div', id='productDescription').text\n",
    "\n",
    "productDescription"
   ]
  },
  {
   "cell_type": "code",
   "execution_count": 169,
   "id": "f3ee15f1-b56f-4ef9-854a-e5c2494516ed",
   "metadata": {},
   "outputs": [
    {
     "data": {
      "text/plain": [
       "' \\n Sobre este item    15g de proteínas    Não Contém Glúten    Zero adição de açúcar    Rica em fibras    \\n ›  Ver mais detalhes do produto   '"
      ]
     },
     "execution_count": 169,
     "metadata": {},
     "output_type": "execute_result"
    }
   ],
   "source": [
    "featureBullets = soup.find('div', id='feature-bullets').text\n",
    "featureBullets"
   ]
  },
  {
   "cell_type": "code",
   "execution_count": 170,
   "id": "d73d3be4-af0b-4abd-a429-675cbd4a4d46",
   "metadata": {},
   "outputs": [
    {
     "data": {
      "text/plain": [
       "4.7"
      ]
     },
     "execution_count": 170,
     "metadata": {},
     "output_type": "execute_result"
    }
   ],
   "source": [
    "if soup.find(id='averageCustomerReviews'):\n",
    "    average_rating = soup.find(id='averageCustomerReviews').find_all(\"span\", class_='a-size-base')[0].text.strip()\n",
    "    average_rating = \"\".join([x for x in f\"{average_rating}\".strip() if x.isdigit() or x == ','])\n",
    "    average_rating = float(average_rating.replace(',', '.'))\n",
    "\n",
    "(average_rating)"
   ]
  },
  {
   "cell_type": "code",
   "execution_count": 171,
   "id": "dcf56812-c759-49fd-a803-2e5e34ccf9d1",
   "metadata": {},
   "outputs": [
    {
     "data": {
      "text/plain": [
       "8"
      ]
     },
     "execution_count": 171,
     "metadata": {},
     "output_type": "execute_result"
    }
   ],
   "source": [
    "rating_data = soup.find(id='acrCustomerReviewText').text\n",
    "rating_count = int(\"\".join([x for x in rating_data if x.isdigit()]))\n",
    "rating_count"
   ]
  },
  {
   "cell_type": "code",
   "execution_count": null,
   "id": "b8b51562-066c-4bee-8028-e7332b5cd986",
   "metadata": {},
   "outputs": [],
   "source": []
  }
 ],
 "metadata": {
  "kernelspec": {
   "display_name": "Python 3 (ipykernel)",
   "language": "python",
   "name": "python3"
  },
  "language_info": {
   "codemirror_mode": {
    "name": "ipython",
    "version": 3
   },
   "file_extension": ".py",
   "mimetype": "text/x-python",
   "name": "python",
   "nbconvert_exporter": "python",
   "pygments_lexer": "ipython3",
   "version": "3.12.3"
  }
 },
 "nbformat": 4,
 "nbformat_minor": 5
}
